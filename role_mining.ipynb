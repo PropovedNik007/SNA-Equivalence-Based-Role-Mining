{
 "cells": [
  {
   "cell_type": "markdown",
   "source": [
    "# Social Network Analysis"
   ],
   "metadata": {
    "collapsed": false
   },
   "id": "af563bc02d4fb3bc"
  },
  {
   "cell_type": "markdown",
   "source": [
    "## 4. Equivalence Based Role Mining\n",
    "\n",
    "Task: Grouping users into equivalence classes that define roles\n",
    "Reference: Doran, D. (2017). Network Role Mining and Analysis. Springer International Publishing, Chapter 3."
   ],
   "metadata": {
    "collapsed": false
   },
   "id": "bd59706aaa51739d"
  },
  {
   "cell_type": "code",
   "execution_count": null,
   "id": "initial_id",
   "metadata": {
    "collapsed": true
   },
   "outputs": [],
   "source": [
    "%pip install networkx[default]"
   ]
  },
  {
   "cell_type": "code",
   "execution_count": null,
   "outputs": [],
   "source": [
    "import numpy as np\n",
    "import networkx as nx\n",
    "import pandas as pd\n",
    "import matplotlib.pyplot as plt"
   ],
   "metadata": {
    "collapsed": false
   },
   "id": "9f4f06037d80b50e"
  },
  {
   "cell_type": "markdown",
   "source": [
    "## The Data\n",
    "\n",
    "The data set is provided by Der Standard, one of the top Austrian newspapers.\n",
    "In the online Standard people can post comments below articles and up/down vote comments.\n",
    "The data set used in this handson and further in the project part of the course will consider a sample of those articles, comments, and votes. "
   ],
   "metadata": {
    "collapsed": false
   },
   "id": "cce3a578a546dfe1"
  },
  {
   "cell_type": "code",
   "execution_count": null,
   "outputs": [],
   "source": [
    "df1 = pd.read_csv('data/Postings_01052019_15052019.csv', sep=';')\n",
    "df2 = pd.read_csv('data/Postings_16052019_31052019.csv', sep=';')\n",
    "df = pd.concat([df1, df2], ignore_index=True)\n",
    "df.head()"
   ],
   "metadata": {
    "collapsed": false
   },
   "id": "350ca367eadf20d7"
  },
  {
   "cell_type": "markdown",
   "source": [
    "There are different entities in the data set: \n",
    "* Users - identified by *ID_CommunityIdentity* (or *UserCommunityName*)\n",
    "* Postings - identified by *ID_Posting*\n",
    "* Articles - identified by *ID_Article*\n",
    "\n",
    "Thus, there are different possibilities to build networks based on the posting data. \n",
    "We will concentrate now on the ***reply-to-network***. \n"
   ],
   "metadata": {
    "collapsed": false
   },
   "id": "9173781d9799d996"
  },
  {
   "cell_type": "code",
   "execution_count": null,
   "outputs": [],
   "source": [
    "votes = pd.read_csv('./data/Votes_01052019_15052019.csv', sep=';')\n",
    "votes.head()"
   ],
   "metadata": {
    "collapsed": false
   },
   "id": "d6d645074f08118a"
  },
  {
   "cell_type": "code",
   "execution_count": null,
   "outputs": [],
   "source": [
    "votes['UserGender'].value_counts()"
   ],
   "metadata": {
    "collapsed": false
   },
   "id": "a781e29b4dd773f9"
  }
 ],
 "metadata": {
  "kernelspec": {
   "display_name": "Python 3",
   "language": "python",
   "name": "python3"
  },
  "language_info": {
   "codemirror_mode": {
    "name": "ipython",
    "version": 2
   },
   "file_extension": ".py",
   "mimetype": "text/x-python",
   "name": "python",
   "nbconvert_exporter": "python",
   "pygments_lexer": "ipython2",
   "version": "2.7.6"
  }
 },
 "nbformat": 4,
 "nbformat_minor": 5
}
